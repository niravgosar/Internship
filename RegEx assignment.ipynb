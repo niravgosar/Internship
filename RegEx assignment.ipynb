{
 "cells": [
  {
   "cell_type": "code",
   "execution_count": 1,
   "id": "4c7108b8",
   "metadata": {},
   "outputs": [],
   "source": [
    "import regex as re"
   ]
  },
  {
   "cell_type": "markdown",
   "id": "febba5b5",
   "metadata": {},
   "source": [
    "### Question 1- Write a Python program to check that a string contains only a certain set of characters (in this case a-z, A-Z and 0-9)."
   ]
  },
  {
   "cell_type": "code",
   "execution_count": 42,
   "id": "7cf265e7",
   "metadata": {},
   "outputs": [
    {
     "name": "stdout",
     "output_type": "stream",
     "text": [
      "Enter string@123\n",
      "String contains only a set of character\n"
     ]
    }
   ],
   "source": [
    "a=input('Enter string')\n",
    "pattern=\"\\w\"\n",
    "if re.search(pattern,a):\n",
    "    print('String contains only a set of character')\n",
    "else:\n",
    "    int('String does not contains only a set of character')"
   ]
  },
  {
   "cell_type": "markdown",
   "id": "f4b5b317",
   "metadata": {},
   "source": [
    "### Question 2- Create a function in python that matches a string that has an a followed by zero or more b's"
   ]
  },
  {
   "cell_type": "code",
   "execution_count": 6,
   "id": "004e5585",
   "metadata": {},
   "outputs": [
    {
     "name": "stdout",
     "output_type": "stream",
     "text": [
      "Enter stringMy name is abra ka dabra\n"
     ]
    },
    {
     "data": {
      "text/plain": [
       "['a', 'ab', 'a', 'a', 'ab', 'a']"
      ]
     },
     "execution_count": 6,
     "metadata": {},
     "output_type": "execute_result"
    }
   ],
   "source": [
    "a=input('Enter string')\n",
    "pattern=\"ab*\"\n",
    "match=re.findall(pattern,a)\n",
    "match"
   ]
  },
  {
   "cell_type": "markdown",
   "id": "d18534e7",
   "metadata": {},
   "source": [
    "### Question 3-  Create a function in python that matches a string that has an a followed by one or more b's"
   ]
  },
  {
   "cell_type": "code",
   "execution_count": 16,
   "id": "baf3e2e1",
   "metadata": {},
   "outputs": [
    {
     "name": "stdout",
     "output_type": "stream",
     "text": [
      "Enter stringabra ka dabra\n"
     ]
    },
    {
     "data": {
      "text/plain": [
       "['ab', 'ab']"
      ]
     },
     "execution_count": 16,
     "metadata": {},
     "output_type": "execute_result"
    }
   ],
   "source": [
    "a=input('Enter string')\n",
    "pattern=\"ab+\"\n",
    "match=re.findall(pattern,a)\n",
    "match"
   ]
  },
  {
   "cell_type": "markdown",
   "id": "46d81799",
   "metadata": {},
   "source": [
    "### Question 4- Create a function in Python and use RegEx that matches a string that has an a followed by zero or one 'b'."
   ]
  },
  {
   "cell_type": "code",
   "execution_count": 12,
   "id": "586b1ea0",
   "metadata": {},
   "outputs": [
    {
     "name": "stdout",
     "output_type": "stream",
     "text": [
      "Enter stringabbyss abnormal are\n"
     ]
    },
    {
     "data": {
      "text/plain": [
       "['ab', 'ab', 'a', 'a']"
      ]
     },
     "execution_count": 12,
     "metadata": {},
     "output_type": "execute_result"
    }
   ],
   "source": [
    "a=input('Enter string')\n",
    "pattern=\"ab?+\"\n",
    "match=re.findall(pattern,a)\n",
    "match"
   ]
  },
  {
   "cell_type": "markdown",
   "id": "c8221fd6",
   "metadata": {},
   "source": [
    "### Question 5- Write a Python program that matches a string that has an a followed by three 'b'."
   ]
  },
  {
   "cell_type": "code",
   "execution_count": 17,
   "id": "53ad3aa4",
   "metadata": {},
   "outputs": [
    {
     "name": "stdout",
     "output_type": "stream",
     "text": [
      "Enter stringabbbra ka dabra\n"
     ]
    },
    {
     "data": {
      "text/plain": [
       "['abbb']"
      ]
     },
     "execution_count": 17,
     "metadata": {},
     "output_type": "execute_result"
    }
   ],
   "source": [
    "a=input('Enter string')\n",
    "pattern=\"ab{3}+\"\n",
    "match=re.findall(pattern,a)\n",
    "match"
   ]
  },
  {
   "cell_type": "markdown",
   "id": "b641d730",
   "metadata": {},
   "source": [
    "### Question 6- Write a regular expression in Python to split a string into uppercase letters."
   ]
  },
  {
   "cell_type": "code",
   "execution_count": 24,
   "id": "1433b988",
   "metadata": {},
   "outputs": [
    {
     "name": "stdout",
     "output_type": "stream",
     "text": [
      "Enter stringImportanceOfRegularExpressionsInPython\n"
     ]
    },
    {
     "data": {
      "text/plain": [
       "'Importance Of Regular Expressions In Python '"
      ]
     },
     "execution_count": 24,
     "metadata": {},
     "output_type": "execute_result"
    }
   ],
   "source": [
    "a=input('Enter string')\n",
    "pattern=\"[A-Z][^A-Z]*\"\n",
    "match=re.findall(pattern,a)\n",
    "match\n",
    "ans=''\n",
    "for i in match:\n",
    "    ans=ans+i+\" \"\n",
    "ans"
   ]
  },
  {
   "cell_type": "markdown",
   "id": "173e26b9",
   "metadata": {},
   "source": [
    "### Question 7- Write a Python program that matches a string that has an a followed by two to three 'b'."
   ]
  },
  {
   "cell_type": "code",
   "execution_count": 91,
   "id": "fc67785c",
   "metadata": {},
   "outputs": [
    {
     "name": "stdout",
     "output_type": "stream",
     "text": [
      "Enter stringbabbby\n",
      "Match found\n"
     ]
    }
   ],
   "source": [
    "a=input('Enter string')\n",
    "pattern1=\"ab{2,3}\"\n",
    "if re.search(pattern1,a):\n",
    "    print('Match found')\n",
    "else:\n",
    "    print('Match not found')\n"
   ]
  },
  {
   "cell_type": "markdown",
   "id": "e1d0ba3d",
   "metadata": {},
   "source": [
    "### Question 8- Write a Python program to find sequences of lowercase letters joined with a underscore."
   ]
  },
  {
   "cell_type": "code",
   "execution_count": 43,
   "id": "3384a4a6",
   "metadata": {},
   "outputs": [
    {
     "name": "stdout",
     "output_type": "stream",
     "text": [
      "Enter stringmy name is nirav\n"
     ]
    },
    {
     "data": {
      "text/plain": [
       "'my__name__is__nirav__'"
      ]
     },
     "execution_count": 43,
     "metadata": {},
     "output_type": "execute_result"
    }
   ],
   "source": [
    "a=input('Enter string')\n",
    "pattern=\"[a-z]*\"\n",
    "match=re.findall(pattern,a)\n",
    "match\n",
    "ans=''\n",
    "for i in match:\n",
    "    ans=ans+i+\"_\"\n",
    "ans"
   ]
  },
  {
   "cell_type": "markdown",
   "id": "0e64b6b5",
   "metadata": {},
   "source": [
    "### Question 9- Write a Python program that matches a string that has an 'a' followed by anything, ending in 'b'."
   ]
  },
  {
   "cell_type": "code",
   "execution_count": 90,
   "id": "c6790d45",
   "metadata": {},
   "outputs": [
    {
     "name": "stdout",
     "output_type": "stream",
     "text": [
      "Enter stringarnab\n",
      "Match found\n"
     ]
    }
   ],
   "source": [
    "a=input('Enter string')\n",
    "pattern1=\"a.*b$\"\n",
    "if re.search(pattern1,a):\n",
    "    print('Match found')\n",
    "else:\n",
    "    print('Match not found')"
   ]
  },
  {
   "cell_type": "markdown",
   "id": "8a81e649",
   "metadata": {},
   "source": [
    "### Question 10- Write a Python program that matches a word at the beginning of a string."
   ]
  },
  {
   "cell_type": "code",
   "execution_count": 14,
   "id": "1bb8713c",
   "metadata": {},
   "outputs": [
    {
     "name": "stdout",
     "output_type": "stream",
     "text": [
      "Enter string the string\n",
      "Match not found\n"
     ]
    }
   ],
   "source": [
    "a=input('Enter string')\n",
    "pattern1=\"^\\w+\"\n",
    "if re.search(pattern1,a):\n",
    "    print('Match found')\n",
    "else:\n",
    "    print('Match not found')"
   ]
  },
  {
   "cell_type": "markdown",
   "id": "b25c8515",
   "metadata": {},
   "source": [
    "### Question 11- Write a Python program to match a string that contains only upper and lowercase letters, numbers, and underscores."
   ]
  },
  {
   "cell_type": "code",
   "execution_count": 89,
   "id": "614f0c7a",
   "metadata": {},
   "outputs": [
    {
     "name": "stdout",
     "output_type": "stream",
     "text": [
      "Enter stringNirav\n",
      "Match found\n"
     ]
    }
   ],
   "source": [
    "a=input('Enter string')\n",
    "pattern1=\"^[a-zA-Z0-9]*$\"\n",
    "if re.search(pattern1,a):\n",
    "    print('Match found')\n",
    "else:\n",
    "    print('Match not found')"
   ]
  },
  {
   "cell_type": "markdown",
   "id": "58f56fae",
   "metadata": {},
   "source": [
    "### Question 12- Write a Python program where a string will start with a specific number. "
   ]
  },
  {
   "cell_type": "code",
   "execution_count": 13,
   "id": "5096e786",
   "metadata": {},
   "outputs": [
    {
     "name": "stdout",
     "output_type": "stream",
     "text": [
      "Enter string431\n",
      "Match not found\n"
     ]
    }
   ],
   "source": [
    "a=input('Enter string')\n",
    "pattern1=\"^\\5+\"\n",
    "if re.search(pattern1,a):\n",
    "    print('Match found')\n",
    "else:\n",
    "    print('Match not found')"
   ]
  },
  {
   "cell_type": "markdown",
   "id": "ff262020",
   "metadata": {},
   "source": [
    "### Question 13- Write a Python program to remove leading zeros from an IP address"
   ]
  },
  {
   "cell_type": "code",
   "execution_count": 88,
   "id": "e0f69259",
   "metadata": {},
   "outputs": [
    {
     "name": "stdout",
     "output_type": "stream",
     "text": [
      "Enter IP address001.010.012.023\n",
      "1 . 10 . 12 . 23\n"
     ]
    }
   ],
   "source": [
    "a=input('Enter IP address')\n",
    "pattern=\"\\d+\"\n",
    "m=re.findall(pattern,a)\n",
    "m\n",
    "p=int(m[0])\n",
    "q=int(m[1])\n",
    "r=int(m[2])\n",
    "s=int(m[3])\n",
    "print(p, '.', q,'.',r,'.',s)"
   ]
  },
  {
   "cell_type": "markdown",
   "id": "78689937",
   "metadata": {},
   "source": [
    "### Question 14- Write a regular expression in python to match a date string in the form of Month name followed by day number and year stored in a text file."
   ]
  },
  {
   "cell_type": "code",
   "execution_count": 90,
   "id": "b594c65b",
   "metadata": {},
   "outputs": [
    {
     "name": "stdout",
     "output_type": "stream",
     "text": [
      "Enter date in format month name - day - yearOn August 15th 1947 that India was declared independent from British colonialism, and the reins of control were handed over to the leaders of the Country’\n"
     ]
    },
    {
     "data": {
      "text/plain": [
       "['August 15th 1947']"
      ]
     },
     "execution_count": 90,
     "metadata": {},
     "output_type": "execute_result"
    }
   ],
   "source": [
    "a=input('Enter string')\n",
    "pattern=\"[A-Z][a-z]+ [0-9]+[a-z]+ \\d{4}\"\n",
    "\n",
    "d=re.findall(pattern,a)\n",
    "d"
   ]
  },
  {
   "cell_type": "markdown",
   "id": "654c0fb9",
   "metadata": {},
   "source": [
    "### Question 15- Write a Python program to search some literals strings in a string. Go to the editor"
   ]
  },
  {
   "cell_type": "code",
   "execution_count": 117,
   "id": "b917ebfc",
   "metadata": {},
   "outputs": [
    {
     "name": "stdout",
     "output_type": "stream",
     "text": [
      "Enter string'The quick brown fox jumps over the lazy dog\n",
      "['fox', 'dog']\n"
     ]
    }
   ],
   "source": [
    "a=input('Enter string')\n",
    "pattern1='fox'\n",
    "pattern2='horse'\n",
    "pattern3='dog'\n",
    "b=re.findall(pattern1,a)\n",
    "c=re.findall(pattern2,a)\n",
    "d=re.findall(pattern3,a)\n",
    "print(b+c+d)"
   ]
  },
  {
   "cell_type": "markdown",
   "id": "1cc1d0f7",
   "metadata": {},
   "source": [
    "### Question 16- Write a Python program to search a literals string in a string and also find the location within the original string where the pattern occurs"
   ]
  },
  {
   "cell_type": "code",
   "execution_count": 118,
   "id": "cd73e42a",
   "metadata": {},
   "outputs": [
    {
     "name": "stdout",
     "output_type": "stream",
     "text": [
      "Enter string'The quick brown fox jumps over the lazy dog.\n",
      "<regex.Match object; span=(17, 20), match='fox'>\n"
     ]
    }
   ],
   "source": [
    "a=input('Enter string')\n",
    "pattern1='fox'\n",
    "b=re.search(pattern1,a)\n",
    "print(b)"
   ]
  },
  {
   "cell_type": "markdown",
   "id": "10b2892e",
   "metadata": {},
   "source": [
    "### Question 17- Write a Python program to find the substrings within a string."
   ]
  },
  {
   "cell_type": "code",
   "execution_count": 134,
   "id": "90328623",
   "metadata": {},
   "outputs": [
    {
     "name": "stdout",
     "output_type": "stream",
     "text": [
      "['exercises']\n",
      "['exercises']\n",
      "['exercises']\n"
     ]
    }
   ],
   "source": [
    "a=['Python exercises', 'PHP exercises', 'C# exercises']\n",
    "for i in a:\n",
    "    b=re.findall('exercises',i)\n",
    "    print(b)"
   ]
  },
  {
   "cell_type": "markdown",
   "id": "1587e0a3",
   "metadata": {},
   "source": [
    "### Question 18- Write a Python program to find the occurrence and position of the substrings within a string."
   ]
  },
  {
   "cell_type": "code",
   "execution_count": 135,
   "id": "a880a5f8",
   "metadata": {},
   "outputs": [
    {
     "name": "stdout",
     "output_type": "stream",
     "text": [
      "<regex.Match object; span=(7, 16), match='exercises'>\n",
      "<regex.Match object; span=(4, 13), match='exercises'>\n",
      "<regex.Match object; span=(3, 12), match='exercises'>\n"
     ]
    }
   ],
   "source": [
    "a=['Python exercises', 'PHP exercises', 'C# exercises']\n",
    "for i in a:\n",
    "    b=re.search('exercises',i)\n",
    "    print(b)"
   ]
  },
  {
   "cell_type": "markdown",
   "id": "f195f617",
   "metadata": {},
   "source": [
    "### Question 19- Write a Python program to convert a date of yyyy-mm-dd format to dd-mm-yyyy format."
   ]
  },
  {
   "cell_type": "code",
   "execution_count": null,
   "id": "e1190a93",
   "metadata": {},
   "outputs": [],
   "source": [
    "a=input('Enter date in the form yyyy-mm-dd')\n",
    "pattern=\"\\d+\"\n",
    "b=re.findall(pattern,a)\n",
    "print(b[2],'-',b[1],'-',b[0])\n"
   ]
  },
  {
   "cell_type": "markdown",
   "id": "13099f31",
   "metadata": {},
   "source": [
    "### Question 20- Write a Python program to find all words starting with 'a' or 'e' in a given string."
   ]
  },
  {
   "cell_type": "code",
   "execution_count": null,
   "id": "e5149789",
   "metadata": {},
   "outputs": [],
   "source": [
    "a=input('Enter string')\n",
    "pattern1=\"\\w*\"\n",
    "q=re.findall(pattern1,a)\n",
    "pattern=\"^[ae]\"\n",
    "for i in q:\n",
    "    if re.search(pattern,i):\n",
    "        print(i)"
   ]
  },
  {
   "cell_type": "markdown",
   "id": "fec7a719",
   "metadata": {},
   "source": [
    "### Question 21- Write a Python program to separate and print the numbers and their position of a given string."
   ]
  },
  {
   "cell_type": "code",
   "execution_count": 211,
   "id": "95dab1b5",
   "metadata": {
    "scrolled": true
   },
   "outputs": [
    {
     "name": "stdout",
     "output_type": "stream",
     "text": [
      "Enter stringI was born in 1992 and 30 years old\n",
      "<regex.Match object; span=(0, 4), match='1992'>\n",
      "<regex.Match object; span=(0, 2), match='30'>\n"
     ]
    }
   ],
   "source": [
    "a=input('Enter string')\n",
    "for i in re.findall(\"\\d+\",a):\n",
    "    b=re.search(\"\\d+\",i)\n",
    "    print(b)"
   ]
  },
  {
   "cell_type": "markdown",
   "id": "43248aff",
   "metadata": {},
   "source": [
    "### Question 22- Write a regular expression in python program to extract maximum numeric value from a string"
   ]
  },
  {
   "cell_type": "code",
   "execution_count": 215,
   "id": "18b67523",
   "metadata": {},
   "outputs": [
    {
     "name": "stdout",
     "output_type": "stream",
     "text": [
      "enter stringSachin scored 250 runs and virat scored 100 runs\n",
      "250\n"
     ]
    }
   ],
   "source": [
    "a=input(\"enter string\")\n",
    "c=re.findall(\"\\d+\",a)\n",
    "print(max(c))"
   ]
  },
  {
   "cell_type": "markdown",
   "id": "74b75859",
   "metadata": {},
   "source": [
    "### Question 23- Write a Regex in Python to put spaces between words starting with capital letters"
   ]
  },
  {
   "cell_type": "code",
   "execution_count": 44,
   "id": "f914c689",
   "metadata": {},
   "outputs": [
    {
     "data": {
      "text/plain": [
       "'My Name Is Khan'"
      ]
     },
     "execution_count": 44,
     "metadata": {},
     "output_type": "execute_result"
    }
   ],
   "source": [
    "a=\"MyNameIsKhan\"\n",
    "b=re.sub(r\"(\\w)([A-Z])\", r\"\\1 \\2\", a)\n",
    "b"
   ]
  },
  {
   "cell_type": "markdown",
   "id": "0c5d8153",
   "metadata": {},
   "source": [
    "### Question 24- Python regex to find sequences of one upper case letter followed by lower case letters"
   ]
  },
  {
   "cell_type": "code",
   "execution_count": 45,
   "id": "8bd96078",
   "metadata": {},
   "outputs": [
    {
     "name": "stdout",
     "output_type": "stream",
     "text": [
      "Enter stringMy name is Nirav\n"
     ]
    },
    {
     "data": {
      "text/plain": [
       "['My', 'Nirav']"
      ]
     },
     "execution_count": 45,
     "metadata": {},
     "output_type": "execute_result"
    }
   ],
   "source": [
    "a=input(\"Enter string\")\n",
    "b=re.findall(\"[A-Z][a-z]*\",a)\n",
    "b"
   ]
  },
  {
   "cell_type": "markdown",
   "id": "f2965627",
   "metadata": {},
   "source": [
    "### Question 25- Write a Python program to remove duplicate words from Sentence using Regular Expression"
   ]
  },
  {
   "cell_type": "code",
   "execution_count": 87,
   "id": "b63cb4b3",
   "metadata": {},
   "outputs": [
    {
     "name": "stdout",
     "output_type": "stream",
     "text": [
      "Enter sentenceGood bye bye world world\n"
     ]
    },
    {
     "data": {
      "text/plain": [
       "['bye', 'world']"
      ]
     },
     "execution_count": 87,
     "metadata": {},
     "output_type": "execute_result"
    }
   ],
   "source": [
    "a=input(\"Enter sentence\")\n",
    "b=re.findall(\"\\\\b(\\\\w+)(?:\\\\W+\\\\1\\\\b)+\",a)\n",
    "b"
   ]
  },
  {
   "cell_type": "markdown",
   "id": "af8733f2",
   "metadata": {},
   "source": [
    "### Question 26 -Write a python program using RegEx to accept string ending with alphanumeric character."
   ]
  },
  {
   "cell_type": "code",
   "execution_count": 59,
   "id": "84e3f8b7",
   "metadata": {},
   "outputs": [
    {
     "name": "stdout",
     "output_type": "stream",
     "text": [
      "Enter stringNirav@\n",
      "reject\n"
     ]
    }
   ],
   "source": [
    "a=input(\"Enter string\")\n",
    "pattern=\"[A-Za-z0-9]$\"\n",
    "if re.search(pattern,a):\n",
    "    print('accept')\n",
    "else:\n",
    "    print('reject')"
   ]
  },
  {
   "cell_type": "markdown",
   "id": "2b4a5545",
   "metadata": {},
   "source": [
    "### Question 27-Write a python program using RegEx to extract the hashtags."
   ]
  },
  {
   "cell_type": "code",
   "execution_count": 68,
   "id": "02e89625",
   "metadata": {},
   "outputs": [
    {
     "data": {
      "text/plain": [
       "['#DataScience']"
      ]
     },
     "execution_count": 68,
     "metadata": {},
     "output_type": "execute_result"
    }
   ],
   "source": [
    "a=\"My hashtag is #DataScience\"\n",
    "pattern='#\\w*'\n",
    "b=re.findall(pattern,a)\n",
    "b"
   ]
  },
  {
   "cell_type": "markdown",
   "id": "2dfe2a2d",
   "metadata": {},
   "source": [
    "### Question 28 -Write a python program using RegEx to remove <U+..> like symbols"
   ]
  },
  {
   "cell_type": "code",
   "execution_count": 75,
   "id": "c887dd1d",
   "metadata": {
    "scrolled": true
   },
   "outputs": [
    {
     "data": {
      "text/plain": [
       "'@Jags123456 Bharat band on 28??<ed> > ><ed> > >Those who  are protesting #demonetization  are all different party leaders'"
      ]
     },
     "execution_count": 75,
     "metadata": {},
     "output_type": "execute_result"
    }
   ],
   "source": [
    "a='@Jags123456 Bharat band on 28??<ed><U+00A0><U+00BD><ed><U+00B8><U+0082>Those who  are protesting #demonetization  are all different party leaders'\n",
    "b=\"<[U]+.....\"\n",
    "c=re.sub(b,' ',a)\n",
    "c"
   ]
  },
  {
   "cell_type": "markdown",
   "id": "dd0e69b6",
   "metadata": {},
   "source": [
    "### Question 29- Write a python program to extract dates from the text stored in the text file."
   ]
  },
  {
   "cell_type": "code",
   "execution_count": 83,
   "id": "4d461861",
   "metadata": {},
   "outputs": [
    {
     "data": {
      "text/plain": [
       "['12-09-1992', '15-12-1999']"
      ]
     },
     "execution_count": 83,
     "metadata": {},
     "output_type": "execute_result"
    }
   ],
   "source": [
    "a='Ron was born on 12-09-1992 and he was admitted to school 15-12-1999.'\n",
    "b=\"[0-9]{2}-[0-9]{2}-[0-9]{4}\"\n",
    "c=re.findall(b,a)\n",
    "c"
   ]
  },
  {
   "cell_type": "markdown",
   "id": "09cadb2c",
   "metadata": {},
   "source": [
    "### Question 30- Write a Python program to replace all occurrences of a space, comma, or dot with a colon."
   ]
  },
  {
   "cell_type": "code",
   "execution_count": 85,
   "id": "6de039fe",
   "metadata": {},
   "outputs": [
    {
     "data": {
      "text/plain": [
       "'Python:Exercises::PHP:exercises:'"
      ]
     },
     "execution_count": 85,
     "metadata": {},
     "output_type": "execute_result"
    }
   ],
   "source": [
    "a='Python Exercises, PHP exercises.'\n",
    "c=\"[, .]\"\n",
    "b=re.sub(c,':',a)\n",
    "b"
   ]
  },
  {
   "cell_type": "code",
   "execution_count": null,
   "id": "87dea99d",
   "metadata": {},
   "outputs": [],
   "source": []
  }
 ],
 "metadata": {
  "kernelspec": {
   "display_name": "Python 3 (ipykernel)",
   "language": "python",
   "name": "python3"
  },
  "language_info": {
   "codemirror_mode": {
    "name": "ipython",
    "version": 3
   },
   "file_extension": ".py",
   "mimetype": "text/x-python",
   "name": "python",
   "nbconvert_exporter": "python",
   "pygments_lexer": "ipython3",
   "version": "3.9.13"
  }
 },
 "nbformat": 4,
 "nbformat_minor": 5
}
